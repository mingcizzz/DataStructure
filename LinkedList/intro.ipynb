{
 "cells": [
  {
   "cell_type": "code",
   "execution_count": 1,
   "metadata": {},
   "outputs": [],
   "source": [
    "class Node:\n",
    "        def __init__(self, val):\n",
    "            self.val = val\n",
    "            self.next = None"
   ]
  },
  {
   "cell_type": "code",
   "execution_count": 6,
   "metadata": {},
   "outputs": [],
   "source": [
    "class LinkedList:\n",
    "        def __init__(self):\n",
    "            self.head = None\n",
    "\n",
    "        #Print List\n",
    "        def listprint(self):\n",
    "            node = self.head\n",
    "            while node is not None:\n",
    "                    print(node.val)\n",
    "                    node = node.next\n",
    "        #Reverse the list\n",
    "        def reverse(self):\n",
    "            prev = None\n",
    "            cur = self.head\n",
    "            while cur:\n",
    "                next = cur.next\n",
    "                cur.next = prev\n",
    "                prev = cur\n",
    "                cur = next\n",
    "            self.head = prev"
   ]
  },
  {
   "cell_type": "code",
   "execution_count": 11,
   "metadata": {},
   "outputs": [
    {
     "name": "stdout",
     "output_type": "stream",
     "text": [
      "Before reverse:\n",
      "Mon\n",
      "Tue\n",
      "Wed\n",
      "After reverse:\n",
      "Wed\n",
      "Tue\n",
      "Mon\n"
     ]
    }
   ],
   "source": [
    "# Creation of Linked List\n",
    "\n",
    "n1 =  Node(\"Mon\")\n",
    "n2  = Node(\"Tue\")\n",
    "n3 = Node(\"Wed\")\n",
    "list1 = LinkedList()\n",
    "list1.head =n1\n",
    "n1.next = n2\n",
    "n2.next=n3\n",
    "print(\"Before reverse:\")\n",
    "list1.listprint()\n",
    "\n",
    "list1.reverse()\n",
    "print(\"After reverse:\")\n",
    "list1.listprint()"
   ]
  },
  {
   "cell_type": "code",
   "execution_count": null,
   "metadata": {},
   "outputs": [],
   "source": []
  }
 ],
 "metadata": {
  "kernelspec": {
   "display_name": "Python 3.9.7 ('base')",
   "language": "python",
   "name": "python3"
  },
  "language_info": {
   "codemirror_mode": {
    "name": "ipython",
    "version": 3
   },
   "file_extension": ".py",
   "mimetype": "text/x-python",
   "name": "python",
   "nbconvert_exporter": "python",
   "pygments_lexer": "ipython3",
   "version": "3.9.7"
  },
  "orig_nbformat": 4,
  "vscode": {
   "interpreter": {
    "hash": "5bdb1d6a634a3f17c8f3d4ac7e0fc81237e1ef384e55a7382d8d806cb84bb9a7"
   }
  }
 },
 "nbformat": 4,
 "nbformat_minor": 2
}

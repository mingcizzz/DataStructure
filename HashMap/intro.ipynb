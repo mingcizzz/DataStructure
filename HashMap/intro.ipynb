{
 "cells": [
  {
   "cell_type": "code",
   "execution_count": null,
   "metadata": {},
   "outputs": [],
   "source": [
    "class Node:\n",
    "   def __init__(self, key, val):\n",
    "      self.key = key\n",
    "      self.val = val\n",
    "      self.next = None\n",
    "class LinkedList:\n",
    "   def __init__(self):\n",
    "      self.prehead = Node(None, None)\n",
    "   def search(self, key):\n",
    "      p = self.prehead.next\n",
    "      while p:\n",
    "         if p.key == key:\n",
    "            return p\n",
    "         p = p.next\n",
    "      return None\n",
    "   def add(self, key, val):\n",
    "      p = self.search(key)\n",
    "      if p:\n",
    "         p.val = val\n",
    "      else:\n",
    "         node = Node(key, val)\n",
    "         self.prehead.next, node.next = node, self.prehead.next\n",
    "   def get(self, key):\n",
    "      p = self.search(key)\n",
    "      if p:\n",
    "         return p.val\n",
    "      else:\n",
    "         return None\n",
    "   def remove(self, key):\n",
    "      prev = self.prehead\n",
    "      cur = prev.next\n",
    "      while cur:\n",
    "         if cur.key == key:\n",
    "            break\n",
    "         prev, cur = cur, cur.next\n",
    "      if cur:\n",
    "         prev.next = cur.next\n",
    "   def serialize(self):\n",
    "      p = self.prehead.next\n",
    "      ret = []\n",
    "      while p:\n",
    "         ret.append([p.key, p.val])\n",
    "         p = p.next\n",
    "      return ret\n",
    "class MyHashMap:\n",
    "   def __init__(self):\n",
    "      self.size = 1033\n",
    "      self.arr = [LinkedList() for _ in range(self.size)]\n",
    "   def _hash(self, key):\n",
    "      return key % self.size\n",
    "   def put(self, key, value):\n",
    "      h = self._hash(key)\n",
    "      self.arr[h].add(key, value)\n",
    "   def get(self, key):\n",
    "      h = self._hash(key)\n",
    "      ret = self.arr[h].get(key)\n",
    "      if ret is not None:\n",
    "         return ret\n",
    "      else:\n",
    "         return -1\n",
    "   def remove(self, key):\n",
    "      h = self._hash(key)\n",
    "      self.arr[h].remove(key)\n",
    "ob = MyHashMap()\n",
    "ob.put(1, 1)\n",
    "ob.put(2, 2)\n",
    "print(ob.get(1))\n",
    "print(ob.get(3))\n",
    "ob.put(2, 1)"
   ]
  },
  {
   "cell_type": "markdown",
   "metadata": {},
   "source": [
    "# Two Sum\n",
    "https://leetcode.com/problems/two-sum/"
   ]
  },
  {
   "cell_type": "markdown",
   "metadata": {},
   "source": [
    "\n",
    "def check_sum(a, target):\n",
    "    d = {}\n",
    "    for i in a:\n",
    "        if (target - i) in d:\n",
    "            return True\n",
    "        else:\n",
    "            d[i] = i\n",
    "\n",
    "    return False"
   ]
  }
 ],
 "metadata": {
  "kernelspec": {
   "display_name": "Python 3.9.7 ('base')",
   "language": "python",
   "name": "python3"
  },
  "language_info": {
   "name": "python",
   "version": "3.9.7"
  },
  "orig_nbformat": 4,
  "vscode": {
   "interpreter": {
    "hash": "5bdb1d6a634a3f17c8f3d4ac7e0fc81237e1ef384e55a7382d8d806cb84bb9a7"
   }
  }
 },
 "nbformat": 4,
 "nbformat_minor": 2
}
